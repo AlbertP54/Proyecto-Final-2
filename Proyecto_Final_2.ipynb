{
  "nbformat": 4,
  "nbformat_minor": 0,
  "metadata": {
    "colab": {
      "name": "Proyecto Final 2.ipynb",
      "provenance": [],
      "collapsed_sections": [],
      "authorship_tag": "ABX9TyOS3qe8P7JgOWJaRghIxsF0",
      "include_colab_link": true
    },
    "kernelspec": {
      "name": "python3",
      "display_name": "Python 3"
    },
    "language_info": {
      "name": "python"
    }
  },
  "cells": [
    {
      "cell_type": "markdown",
      "metadata": {
        "id": "view-in-github",
        "colab_type": "text"
      },
      "source": [
        "<a href=\"https://colab.research.google.com/github/AlbertP54/Proyecto-Final-2/blob/main/Proyecto_Final_2.ipynb\" target=\"_parent\"><img src=\"https://colab.research.google.com/assets/colab-badge.svg\" alt=\"Open In Colab\"/></a>"
      ]
    },
    {
      "cell_type": "code",
      "metadata": {
        "colab": {
          "base_uri": "https://localhost:8080/"
        },
        "id": "B8xwsOfAzI2K",
        "outputId": "65aa098c-a2fb-4bd0-eeba-c823eba737a5"
      },
      "source": [
        "!pip install pyspark"
      ],
      "execution_count": null,
      "outputs": [
        {
          "output_type": "stream",
          "name": "stdout",
          "text": [
            "Requirement already satisfied: pyspark in /usr/local/lib/python3.7/dist-packages (3.2.0)\n",
            "Requirement already satisfied: py4j==0.10.9.2 in /usr/local/lib/python3.7/dist-packages (from pyspark) (0.10.9.2)\n"
          ]
        }
      ]
    },
    {
      "cell_type": "markdown",
      "metadata": {
        "id": "wGmLns36jQC_"
      },
      "source": [
        "**Creando sesion de spark e importando algunas librerias necesarias para el proyecto**"
      ]
    },
    {
      "cell_type": "code",
      "metadata": {
        "id": "nE6f32zCzcnC"
      },
      "source": [
        "from pyspark.sql import SparkSession\n",
        "import pyspark\n",
        "import pandas as pd\n",
        "import numpy as np\n",
        "import matplotlib.pyplot as plt\n",
        "from pyspark.sql.functions import *\n",
        "from pyspark.sql.types import *\n",
        "from pyspark.ml.clustering import KMeans\n",
        "\n",
        "spark = SparkSession.builder.appName('unsupervised_learning').getOrCreate()"
      ],
      "execution_count": null,
      "outputs": []
    },
    {
      "cell_type": "markdown",
      "metadata": {
        "id": "uxHE_lBTjMvS"
      },
      "source": [
        "**Importando el data set**"
      ]
    },
    {
      "cell_type": "code",
      "metadata": {
        "colab": {
          "resources": {
            "http://localhost:8080/nbextensions/google.colab/files.js": {
              "data": "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",
              "ok": true,
              "headers": [
                [
                  "content-type",
                  "application/javascript"
                ]
              ],
              "status": 200,
              "status_text": ""
            }
          },
          "base_uri": "https://localhost:8080/",
          "height": 90
        },
        "id": "58tt-c320NOc",
        "outputId": "c24e1558-f922-472c-8d73-0e0853ec3b35"
      },
      "source": [
        "from google.colab import files\n",
        "uploaded = files.upload()\n",
        "\n",
        "df = spark.read.csv('music_data.csv', inferSchema=True, header=True)\n",
        "df.count()"
      ],
      "execution_count": null,
      "outputs": [
        {
          "output_type": "display_data",
          "data": {
            "text/html": [
              "\n",
              "     <input type=\"file\" id=\"files-7a3829a8-7afd-49b2-a6c8-64a3e6c5efda\" name=\"files[]\" multiple disabled\n",
              "        style=\"border:none\" />\n",
              "     <output id=\"result-7a3829a8-7afd-49b2-a6c8-64a3e6c5efda\">\n",
              "      Upload widget is only available when the cell has been executed in the\n",
              "      current browser session. Please rerun this cell to enable.\n",
              "      </output>\n",
              "      <script src=\"/nbextensions/google.colab/files.js\"></script> "
            ],
            "text/plain": [
              "<IPython.core.display.HTML object>"
            ]
          },
          "metadata": {}
        },
        {
          "output_type": "stream",
          "name": "stdout",
          "text": [
            "Saving music_data.csv to music_data (2).csv\n"
          ]
        },
        {
          "output_type": "execute_result",
          "data": {
            "text/plain": [
              "429023"
            ]
          },
          "metadata": {},
          "execution_count": 3
        }
      ]
    },
    {
      "cell_type": "markdown",
      "metadata": {
        "id": "q6VLRkIYjhaE"
      },
      "source": [
        "**Imprimiendo el data set**"
      ]
    },
    {
      "cell_type": "code",
      "metadata": {
        "colab": {
          "base_uri": "https://localhost:8080/"
        },
        "id": "e-joDeBm0NTc",
        "outputId": "ee4d9904-c736-4682-b69e-3452c37961b5"
      },
      "source": [
        "df.printSchema()"
      ],
      "execution_count": null,
      "outputs": [
        {
          "output_type": "stream",
          "name": "stdout",
          "text": [
            "root\n",
            " |-- user_id: string (nullable = true)\n",
            " |-- music category: string (nullable = true)\n",
            "\n"
          ]
        }
      ]
    },
    {
      "cell_type": "markdown",
      "metadata": {
        "id": "2zixtnT3jubZ"
      },
      "source": [
        "**Contando el numero de distintas categorias musicales**"
      ]
    },
    {
      "cell_type": "code",
      "metadata": {
        "colab": {
          "base_uri": "https://localhost:8080/"
        },
        "id": "TvTr8bBq0NX3",
        "outputId": "9e730b77-2f25-4cad-f779-0d4e2b90ecd4"
      },
      "source": [
        "df.select('music category').distinct().count()"
      ],
      "execution_count": null,
      "outputs": [
        {
          "output_type": "execute_result",
          "data": {
            "text/plain": [
              "21"
            ]
          },
          "metadata": {},
          "execution_count": 5
        }
      ]
    },
    {
      "cell_type": "markdown",
      "metadata": {
        "id": "D57-8YNFj2As"
      },
      "source": [
        "**Agrupando las categorias musicales y contando el numero de veces que aparecen en el data set**"
      ]
    },
    {
      "cell_type": "code",
      "metadata": {
        "colab": {
          "base_uri": "https://localhost:8080/"
        },
        "id": "fozcdw5h0NcF",
        "outputId": "75b7992a-9bd3-4b61-8f87-fcb25f40eb35"
      },
      "source": [
        "df.groupBy('music category').count().orderBy('count', ascending=False).show(100,False)"
      ],
      "execution_count": null,
      "outputs": [
        {
          "output_type": "stream",
          "name": "stdout",
          "text": [
            "+-----------------+-----+\n",
            "|music category   |count|\n",
            "+-----------------+-----+\n",
            "|Alternative Music|64227|\n",
            "|Blues            |54647|\n",
            "|Classical Music  |43117|\n",
            "|Country Music    |39891|\n",
            "|Dance Music      |35779|\n",
            "|Easy Listening   |34356|\n",
            "|Electronic Music |30985|\n",
            "|Rap              |29569|\n",
            "|Hip Hop          |16895|\n",
            "|Indie Pop        |16244|\n",
            "|Motivational     |10118|\n",
            "|Asian Pop        |8444 |\n",
            "|Jazz             |7685 |\n",
            "|Latin Music      |7302 |\n",
            "|New Age          |7053 |\n",
            "|Opera            |6188 |\n",
            "|Hindi Music      |5689 |\n",
            "|Popular          |4729 |\n",
            "|Soulful          |2403 |\n",
            "|Reggae           |1970 |\n",
            "|Rock             |1732 |\n",
            "+-----------------+-----+\n",
            "\n"
          ]
        }
      ]
    },
    {
      "cell_type": "markdown",
      "metadata": {
        "id": "S0LRss1vkhWA"
      },
      "source": [
        "**Contando el numero de usuarios con diferente Id y gustos musicales diferentes**"
      ]
    },
    {
      "cell_type": "code",
      "metadata": {
        "colab": {
          "base_uri": "https://localhost:8080/"
        },
        "id": "Unw2o93b0Nf5",
        "outputId": "669ba0d0-9237-4dbc-cab0-f4e3ca500ae5"
      },
      "source": [
        "df.select('user_id').distinct().count()"
      ],
      "execution_count": null,
      "outputs": [
        {
          "output_type": "execute_result",
          "data": {
            "text/plain": [
              "775"
            ]
          },
          "metadata": {},
          "execution_count": 7
        }
      ]
    },
    {
      "cell_type": "markdown",
      "metadata": {
        "id": "b-F0RiREk8Wz"
      },
      "source": [
        "**Agrupando de manera descendente los diferentes Id de los usuarios y contando cada ocurrencia de ellos**"
      ]
    },
    {
      "cell_type": "code",
      "metadata": {
        "colab": {
          "base_uri": "https://localhost:8080/"
        },
        "id": "HMKGeUwY0Njm",
        "outputId": "c1a9962a-f50b-4a30-ad58-7a1d97c0705b"
      },
      "source": [
        "df.groupBy('user_id').count().orderBy('count', ascending=False).show(20,False)"
      ],
      "execution_count": null,
      "outputs": [
        {
          "output_type": "stream",
          "name": "stdout",
          "text": [
            "+----------------------------------------------------------------+-----+\n",
            "|user_id                                                         |count|\n",
            "+----------------------------------------------------------------+-----+\n",
            "|628119a73b9725466e6c309f803d30cfc3b11d2a426cdd5f0d62a496e105c914|14257|\n",
            "|179dd34be075e729f14dadc28a34459226c4f62797af5f186bddbb7428b8fc78|11804|\n",
            "|2d765ea4ffc6554c95a1c703afcd3470bc118a65c2f0728871f4d0f40628f41b|11001|\n",
            "|ca60aad85306a7fdd51a469ca6a5d27109dfd5f5781d7da985c70574d2520d23|10479|\n",
            "|03bfd7e24d3a7ce9e3973f9d42ad89e4c1710b89bec59b2b08712ba73372dcbc|10075|\n",
            "|7660ca8a4f5df748976aac001d5f0c5b7c8806f5c08197542d26c2eac4b20f85|9932 |\n",
            "|b6eb8ef9cacc79b6779a7e065c3b0fb5174397ea983d70453bc978b6e46f95e2|7694 |\n",
            "|e92f348b4a29089c9d7b82095d0bd49422153b60bbde08527015121e44699990|7210 |\n",
            "|da03e0ef521fecb209f01410eefff11c115fda2d217dde51fd870761b31bb968|7182 |\n",
            "|04cd1fc5c925a8a702607d6c1a047b8e0cbe170bdaed5270369d321f73254b53|6853 |\n",
            "|a2374ccb47b0af60aafabeed11b979acf0d72e1afe7f96b671302aaa51592531|6730 |\n",
            "|1ed20907b0eb013b6d2b8097671c5faaaae884ac9ae4b77753ee7d640036e080|6612 |\n",
            "|19152e9dc36bd8fdded0be20e1a371cc5a57edd5a248973c9fa5b8ed4c8bdb0c|5378 |\n",
            "|dd69f69a8df66f0d79c8a2ce41ace204dbb74e1a5a3ae36c511b8cd9ef9000a5|5255 |\n",
            "|1b2dfdebfa64564c8eb7785c77b9f1cdaee6059b63b30a59c2701fee6c20407c|4928 |\n",
            "|7cc577809aedea3d9423fccf6091258b9a7a0b66089d6aa86689548139c36e4b|4450 |\n",
            "|0d5b7fbb167130690b8a7149d81529a2048242945a64b46c427915e8fded9e75|4371 |\n",
            "|7a39568d24f3b1a953c2bc98d638cdc2b7eb02f0e6ddcee29bbc5034ec9ad76e|4324 |\n",
            "|e6f90a69588f335223ac774391f7a1835d9225dc8f2090fd59265d9836783f25|4301 |\n",
            "|4ab70e2a682304ce1b4b3b292b015ae343f255aca18863a4fe47a69ffd3470f8|4277 |\n",
            "+----------------------------------------------------------------+-----+\n",
            "only showing top 20 rows\n",
            "\n"
          ]
        }
      ]
    },
    {
      "cell_type": "markdown",
      "metadata": {
        "id": "Mu2y0gqMlMPp"
      },
      "source": [
        "**Agrupando de manera ascendente los diferentes Id de los usuarios y contando cada ocurrencia de ellos**"
      ]
    },
    {
      "cell_type": "code",
      "metadata": {
        "colab": {
          "base_uri": "https://localhost:8080/"
        },
        "id": "TMH-f-na1IRm",
        "outputId": "66867053-9d4a-4f23-8092-cc998c2ed0b4"
      },
      "source": [
        "df.groupBy('user_id').count().orderBy('count',ascending=True).show(20,False)"
      ],
      "execution_count": null,
      "outputs": [
        {
          "output_type": "stream",
          "name": "stdout",
          "text": [
            "+----------------------------------------------------------------+-----+\n",
            "|user_id                                                         |count|\n",
            "+----------------------------------------------------------------+-----+\n",
            "|402c7aac3776a3758ca143819a0653c6cd33c6c35dd831d9ba5aad1dff43a888|1    |\n",
            "|a09074b27cd4ab61654c0f4e21bc5e97dc86a611743a1f8b37db3a76df8e306e|1    |\n",
            "|ecb27d9bf54e751018cd6c1cc5a0f2d812ff08585271acfc980bdacb742a7a02|1    |\n",
            "|bdb448f271ec83b324acd32248f1401964cb1f5f716e94eebed508f02e889e14|1    |\n",
            "|e6e6ceb674b7ca53391ac404558a3f8d222db82c643b8c21070db4f029a50095|1    |\n",
            "|1e3e7153bf1aa5f43b1d1f27c940087587a50d40d399f4cf31b58546a39b9f26|1    |\n",
            "|54f2e60bd31a775aca7fb60816c6990a415fe66694098d1ee64cc9e13f831a64|1    |\n",
            "|55efc631da61b192de874d5e2b05ea1e04ec08bd2e3009ebcd0053a84bbd4341|1    |\n",
            "|ba35ab150a757e0b3abf9c5f11b7686e5394f6cdcb59d257f9fd2e1dd7cf23c2|1    |\n",
            "|1e6fb89e6aca7641dba8bbd87e97badb8306f1ce50c02c2b0a6f36457e843221|1    |\n",
            "|d631ffaf7f6731b146cecbf16c02fc543d02f5a8377561e5dd60a9eba603e001|1    |\n",
            "|760430c89527a8b503dd02bada46926938c5ad036b7ca08a21d685fe5a89f01e|1    |\n",
            "|7ba2fabcbbd4705128a8966d4d5fcf9d3e284c77fada7752da397f479ad4a12e|1    |\n",
            "|8caf42bf00baea90141dec822bece26fc54bf9884c7dbf0439b445fb98b50152|1    |\n",
            "|597affc56ba81274561da2b3541a8e1a30f7bbcf75cb54a9f9c1a885d88f7f7b|1    |\n",
            "|8691b41f5ae65644c8aca0ec9d738eb3b5537b106f0fdcb3f652cc77b7ab7dd6|1    |\n",
            "|8aced64c96741dbeab4659f102f34c157189b3f7a63807d87bad5d8c663005cb|1    |\n",
            "|4d5920f000b000d60fdc63043886f47cc056d2835d3a73e50f389a5694b19115|1    |\n",
            "|db8ad4bcda32a37e0e3c0fc3f8a92a42aaafb4e7156aeba003602e84f85e8880|2    |\n",
            "|56d4eb0c723782150ff98694f7573d287c55b658a9c2bf9502d5313f856d9e02|2    |\n",
            "+----------------------------------------------------------------+-----+\n",
            "only showing top 20 rows\n",
            "\n"
          ]
        }
      ]
    },
    {
      "cell_type": "markdown",
      "metadata": {
        "id": "dlF6Bz2OlP8e"
      },
      "source": [
        "**Remoldeamos el data set de 2 columnas en una varias columnas e imprimimos las caracteristicas del data set**"
      ]
    },
    {
      "cell_type": "code",
      "metadata": {
        "colab": {
          "base_uri": "https://localhost:8080/"
        },
        "id": "EgnSSQe61IXH",
        "outputId": "6ca0b804-aa2a-42c2-8cb6-f60e67140a3d"
      },
      "source": [
        "feature_df=df.stat.crosstab(\"user_id\", \"music category\")\n",
        "feature_df.printSchema()"
      ],
      "execution_count": null,
      "outputs": [
        {
          "output_type": "stream",
          "name": "stdout",
          "text": [
            "root\n",
            " |-- user_id_music category: string (nullable = true)\n",
            " |-- Alternative Music: long (nullable = true)\n",
            " |-- Asian Pop: long (nullable = true)\n",
            " |-- Blues: long (nullable = true)\n",
            " |-- Classical Music: long (nullable = true)\n",
            " |-- Country Music: long (nullable = true)\n",
            " |-- Dance Music: long (nullable = true)\n",
            " |-- Easy Listening: long (nullable = true)\n",
            " |-- Electronic Music: long (nullable = true)\n",
            " |-- Hindi Music: long (nullable = true)\n",
            " |-- Hip Hop: long (nullable = true)\n",
            " |-- Indie Pop: long (nullable = true)\n",
            " |-- Jazz: long (nullable = true)\n",
            " |-- Latin Music: long (nullable = true)\n",
            " |-- Motivational: long (nullable = true)\n",
            " |-- New Age: long (nullable = true)\n",
            " |-- Opera: long (nullable = true)\n",
            " |-- Popular: long (nullable = true)\n",
            " |-- Rap: long (nullable = true)\n",
            " |-- Reggae: long (nullable = true)\n",
            " |-- Rock: long (nullable = true)\n",
            " |-- Soulful: long (nullable = true)\n",
            "\n"
          ]
        }
      ]
    },
    {
      "cell_type": "markdown",
      "metadata": {
        "id": "ryHFrOr2lQ_2"
      },
      "source": [
        "**Imprimimos los primeros 3 datos dentro del data set con sus respectivas columnas que remoldeamos anteriormente**"
      ]
    },
    {
      "cell_type": "code",
      "metadata": {
        "colab": {
          "base_uri": "https://localhost:8080/"
        },
        "id": "x3XnZnU21IbW",
        "outputId": "c71c270f-e1d7-4be3-852a-4dda716ac1bc"
      },
      "source": [
        "feature_df.show(3,False)"
      ],
      "execution_count": null,
      "outputs": [
        {
          "output_type": "stream",
          "name": "stdout",
          "text": [
            "+----------------------------------------------------------------+-----------------+---------+-----+---------------+-------------+-----------+--------------+----------------+-----------+-------+---------+----+-----------+------------+-------+-----+-------+---+------+----+-------+\n",
            "|user_id_music category                                          |Alternative Music|Asian Pop|Blues|Classical Music|Country Music|Dance Music|Easy Listening|Electronic Music|Hindi Music|Hip Hop|Indie Pop|Jazz|Latin Music|Motivational|New Age|Opera|Popular|Rap|Reggae|Rock|Soulful|\n",
            "+----------------------------------------------------------------+-----------------+---------+-----+---------------+-------------+-----------+--------------+----------------+-----------+-------+---------+----+-----------+------------+-------+-----+-------+---+------+----+-------+\n",
            "|ca3c4285512798abe7d81fa2d0588549211be9516d9b2050e5564f8e912312c7|65               |0        |7    |8              |7            |12         |7             |2               |12         |7      |0        |15  |0          |2           |0      |3    |0      |3  |0     |1   |0      |\n",
            "|b457919ae168ac12ec7e0303ae0d5fe292b63c9d04eb54e039942e7f46552ec4|80               |0        |65   |135            |16           |55         |7             |34              |0          |12     |6        |7   |3          |2           |1      |2    |0      |5  |0     |0   |0      |\n",
            "|a87bb168ba6e5a8da5eccce18c95565d843b40c1833b0f6c3089eb083f0fe3d3|0                |0        |11   |0              |9            |3          |0             |3               |3          |0      |5        |0   |0          |1           |0      |0    |4      |0  |0     |0   |5      |\n",
            "+----------------------------------------------------------------+-----------------+---------+-----+---------------+-------------+-----------+--------------+----------------+-----------+-------+---------+----+-----------+------------+-------+-----+-------+---+------+----+-------+\n",
            "only showing top 3 rows\n",
            "\n"
          ]
        }
      ]
    },
    {
      "cell_type": "markdown",
      "metadata": {
        "id": "Ey9asK3ql81Q"
      },
      "source": [
        "**Convertimos el data set remoldeado en un vector unico de caracteristicas y lo imprimimos**"
      ]
    },
    {
      "cell_type": "code",
      "metadata": {
        "colab": {
          "base_uri": "https://localhost:8080/"
        },
        "id": "vyRendSo1IfT",
        "outputId": "5ec450ca-0e0f-4560-a627-6ffa49d5044e"
      },
      "source": [
        "from pyspark.ml.linalg import Vectors\n",
        "from pyspark.ml.feature import VectorAssembler\n",
        "\n",
        "print(feature_df.columns)"
      ],
      "execution_count": null,
      "outputs": [
        {
          "output_type": "stream",
          "name": "stdout",
          "text": [
            "['user_id_music category', 'Alternative Music', 'Asian Pop', 'Blues', 'Classical Music', 'Country Music', 'Dance Music', 'Easy Listening', 'Electronic Music', 'Hindi Music', 'Hip Hop', 'Indie Pop', 'Jazz', 'Latin Music', 'Motivational', 'New Age', 'Opera', 'Popular', 'Rap', 'Reggae', 'Rock', 'Soulful']\n"
          ]
        }
      ]
    },
    {
      "cell_type": "markdown",
      "metadata": {
        "id": "6axOKed3mKK3"
      },
      "source": [
        "**Descartamos la columna \"user_id_music category\" de nuestro data frame**"
      ]
    },
    {
      "cell_type": "code",
      "metadata": {
        "colab": {
          "base_uri": "https://localhost:8080/"
        },
        "id": "6zfPnld-1Ijs",
        "outputId": "ce1a64c1-e213-421d-f9d5-5d9d67003a39"
      },
      "source": [
        "feat_cols = [col for col in feature_df.columns if col !='user_id_music category']\n",
        "print(feat_cols)"
      ],
      "execution_count": null,
      "outputs": [
        {
          "output_type": "stream",
          "name": "stdout",
          "text": [
            "['Alternative Music', 'Asian Pop', 'Blues', 'Classical Music', 'Country Music', 'Dance Music', 'Easy Listening', 'Electronic Music', 'Hindi Music', 'Hip Hop', 'Indie Pop', 'Jazz', 'Latin Music', 'Motivational', 'New Age', 'Opera', 'Popular', 'Rap', 'Reggae', 'Rock', 'Soulful']\n"
          ]
        }
      ]
    },
    {
      "cell_type": "markdown",
      "metadata": {
        "id": "fAhsFUw-mLE_"
      },
      "source": [
        "**Creamos una nueva columna llamada 'features' en nuestro data frame y lo imprimimos**"
      ]
    },
    {
      "cell_type": "code",
      "metadata": {
        "colab": {
          "base_uri": "https://localhost:8080/"
        },
        "id": "dMT6jlu51IoP",
        "outputId": "610a8583-420b-4b1e-c9c6-168cb1616fb3"
      },
      "source": [
        "vec_assembler = VectorAssembler(inputCols = feat_cols, outputCol='features')\n",
        "final_data = vec_assembler.transform(feature_df)\n",
        "final_data.printSchema()"
      ],
      "execution_count": null,
      "outputs": [
        {
          "output_type": "stream",
          "name": "stdout",
          "text": [
            "root\n",
            " |-- user_id_music category: string (nullable = true)\n",
            " |-- Alternative Music: long (nullable = true)\n",
            " |-- Asian Pop: long (nullable = true)\n",
            " |-- Blues: long (nullable = true)\n",
            " |-- Classical Music: long (nullable = true)\n",
            " |-- Country Music: long (nullable = true)\n",
            " |-- Dance Music: long (nullable = true)\n",
            " |-- Easy Listening: long (nullable = true)\n",
            " |-- Electronic Music: long (nullable = true)\n",
            " |-- Hindi Music: long (nullable = true)\n",
            " |-- Hip Hop: long (nullable = true)\n",
            " |-- Indie Pop: long (nullable = true)\n",
            " |-- Jazz: long (nullable = true)\n",
            " |-- Latin Music: long (nullable = true)\n",
            " |-- Motivational: long (nullable = true)\n",
            " |-- New Age: long (nullable = true)\n",
            " |-- Opera: long (nullable = true)\n",
            " |-- Popular: long (nullable = true)\n",
            " |-- Rap: long (nullable = true)\n",
            " |-- Reggae: long (nullable = true)\n",
            " |-- Rock: long (nullable = true)\n",
            " |-- Soulful: long (nullable = true)\n",
            " |-- features: vector (nullable = true)\n",
            "\n"
          ]
        }
      ]
    },
    {
      "cell_type": "markdown",
      "metadata": {
        "id": "ifO429wwmNRy"
      },
      "source": [
        "**Escalamos las caracteristicas del data frame para una mejor comodidad a la hora de implementar el modelo de clustering**"
      ]
    },
    {
      "cell_type": "code",
      "metadata": {
        "colab": {
          "base_uri": "https://localhost:8080/"
        },
        "id": "7C5_8lcM1IsW",
        "outputId": "51bead7c-9850-4f47-b0a3-07c76144c6cf"
      },
      "source": [
        "from pyspark.ml.feature import StandardScaler\n",
        "\n",
        "scaler = StandardScaler(inputCol=\"features\", outputCol=\"scaledFeatures\", withStd=True, withMean=False)\n",
        "scalerModel = scaler.fit(final_data)\n",
        "cluster_final_data = scalerModel.transform(final_data)\n",
        "cluster_final_data.columns"
      ],
      "execution_count": null,
      "outputs": [
        {
          "output_type": "execute_result",
          "data": {
            "text/plain": [
              "['user_id_music category',\n",
              " 'Alternative Music',\n",
              " 'Asian Pop',\n",
              " 'Blues',\n",
              " 'Classical Music',\n",
              " 'Country Music',\n",
              " 'Dance Music',\n",
              " 'Easy Listening',\n",
              " 'Electronic Music',\n",
              " 'Hindi Music',\n",
              " 'Hip Hop',\n",
              " 'Indie Pop',\n",
              " 'Jazz',\n",
              " 'Latin Music',\n",
              " 'Motivational',\n",
              " 'New Age',\n",
              " 'Opera',\n",
              " 'Popular',\n",
              " 'Rap',\n",
              " 'Reggae',\n",
              " 'Rock',\n",
              " 'Soulful',\n",
              " 'features',\n",
              " 'scaledFeatures']"
            ]
          },
          "metadata": {},
          "execution_count": 15
        }
      ]
    },
    {
      "cell_type": "markdown",
      "metadata": {
        "id": "Ou7KITlemRf2"
      },
      "source": [
        "**Implementamos el evaludar del cluster para obtener el numero de clusters en nuestro data frame**"
      ]
    },
    {
      "cell_type": "code",
      "metadata": {
        "id": "BR39JCHD1Iwa"
      },
      "source": [
        "from pyspark.ml.evaluation import ClusteringEvaluator\n",
        "\n",
        "evaluator = ClusteringEvaluator(predictionCol=\"prediction\",\n",
        "                                featuresCol=\"scaledFeatures\",\n",
        "                                metricName=\"silhouette\",\n",
        "                                distanceMeasure=\"squaredEuclidean\")"
      ],
      "execution_count": null,
      "outputs": []
    },
    {
      "cell_type": "markdown",
      "metadata": {
        "id": "2FeKR4U9mSRm"
      },
      "source": [
        "**Imprimimos el numero de clusters para nuestro data frame asi como el calculo de sus errores**"
      ]
    },
    {
      "cell_type": "code",
      "metadata": {
        "colab": {
          "base_uri": "https://localhost:8080/"
        },
        "id": "F5HU6DHZoBes",
        "outputId": "4302226b-df93-4e0b-a4e3-d6600f7ff944"
      },
      "source": [
        "silhouette_score = []\n",
        "print(\"\"\"\n",
        "Silhouette Scores for K mean Clustering\n",
        "=======================================\n",
        "Model\\tScore\\t\n",
        "=====\\t=====\\t\n",
        "\"\"\")\n",
        "\n",
        "for k in range(2,10):\n",
        "  kmeans = KMeans(featuresCol='scaledFeatures',k=k)\n",
        "  model = kmeans.fit(cluster_final_data)\n",
        "  wssse = model.transform(cluster_final_data)\n",
        "  score = evaluator.evaluate(wssse)\n",
        "  silhouette_score.append(score)\n",
        "  print(\"With K={}\".format(k))\n",
        "  print(\"Within Set Sum of Squared Errors = \" + str(silhouette_score))\n",
        "  print('--'*30)"
      ],
      "execution_count": null,
      "outputs": [
        {
          "output_type": "stream",
          "name": "stdout",
          "text": [
            "\n",
            "Silhouette Scores for K mean Clustering\n",
            "=======================================\n",
            "Model\tScore\t\n",
            "=====\t=====\t\n",
            "\n",
            "With K=2\n",
            "Within Set Sum of Squared Errors = [0.9490446743667851]\n",
            "------------------------------------------------------------\n",
            "With K=3\n",
            "Within Set Sum of Squared Errors = [0.9490446743667851, 0.9081535019268502]\n",
            "------------------------------------------------------------\n",
            "With K=4\n",
            "Within Set Sum of Squared Errors = [0.9490446743667851, 0.9081535019268502, 0.9048422652898206]\n",
            "------------------------------------------------------------\n",
            "With K=5\n",
            "Within Set Sum of Squared Errors = [0.9490446743667851, 0.9081535019268502, 0.9048422652898206, 0.9020972296722768]\n",
            "------------------------------------------------------------\n",
            "With K=6\n",
            "Within Set Sum of Squared Errors = [0.9490446743667851, 0.9081535019268502, 0.9048422652898206, 0.9020972296722768, 0.7968719323906878]\n",
            "------------------------------------------------------------\n",
            "With K=7\n",
            "Within Set Sum of Squared Errors = [0.9490446743667851, 0.9081535019268502, 0.9048422652898206, 0.9020972296722768, 0.7968719323906878, 0.9088982185869836]\n",
            "------------------------------------------------------------\n",
            "With K=8\n",
            "Within Set Sum of Squared Errors = [0.9490446743667851, 0.9081535019268502, 0.9048422652898206, 0.9020972296722768, 0.7968719323906878, 0.9088982185869836, 0.8174342463960399]\n",
            "------------------------------------------------------------\n",
            "With K=9\n",
            "Within Set Sum of Squared Errors = [0.9490446743667851, 0.9081535019268502, 0.9048422652898206, 0.9020972296722768, 0.7968719323906878, 0.9088982185869836, 0.8174342463960399, 0.7956808419223068]\n",
            "------------------------------------------------------------\n"
          ]
        }
      ]
    },
    {
      "cell_type": "markdown",
      "metadata": {
        "id": "IyX1DHDfmTkW"
      },
      "source": [
        "**Visualizamos el numero de clusters y el error que maneja cada uno de ellos**"
      ]
    },
    {
      "cell_type": "code",
      "metadata": {
        "id": "l9HdKFM83OCU",
        "colab": {
          "base_uri": "https://localhost:8080/",
          "height": 279
        },
        "outputId": "e0b06572-e7ce-4dd3-c4b1-b28dd59d42f5"
      },
      "source": [
        "cluster_number = range(2,10)\n",
        "plt.scatter(cluster_number, silhouette_score)\n",
        "plt.xlabel('clusters')\n",
        "plt.ylabel('WSSE')\n",
        "plt.show()"
      ],
      "execution_count": null,
      "outputs": [
        {
          "output_type": "display_data",
          "data": {
            "image/png": "[encoded data removed]",
            "text/plain": [
              "<Figure size 432x288 with 1 Axes>"
            ]
          },
          "metadata": {
            "needs_background": "light"
          }
        }
      ]
    },
    {
      "cell_type": "markdown",
      "metadata": {
        "id": "H4uqYjJvmUk3"
      },
      "source": [
        "**Implementamos 6 clusters en nuestro data frame para obtener nuevas predicciones del data frame**"
      ]
    },
    {
      "cell_type": "code",
      "metadata": {
        "id": "L4-Q2xb33OGf",
        "colab": {
          "base_uri": "https://localhost:8080/"
        },
        "outputId": "cc1fa773-fef7-4256-d654-8c5b77dee9bc"
      },
      "source": [
        "kmeans6 = KMeans(featuresCol='scaledFeatures',k=6)\n",
        "model_k6 = kmeans6.fit(cluster_final_data)\n",
        "model_k6.transform(cluster_final_data).groupBy('prediction').count().show()"
      ],
      "execution_count": null,
      "outputs": [
        {
          "output_type": "stream",
          "name": "stdout",
          "text": [
            "+----------+-----+\n",
            "|prediction|count|\n",
            "+----------+-----+\n",
            "|         1|    1|\n",
            "|         3|    3|\n",
            "|         5|   65|\n",
            "|         4|    1|\n",
            "|         2|   11|\n",
            "|         0|  694|\n",
            "+----------+-----+\n",
            "\n"
          ]
        }
      ]
    },
    {
      "cell_type": "markdown",
      "metadata": {
        "id": "iba0DkBrmVic"
      },
      "source": [
        "**Añadimos la columna de 'prediction' a nuestro data frame y lo imprimimos**"
      ]
    },
    {
      "cell_type": "code",
      "metadata": {
        "id": "yh3uY4s33OKv",
        "colab": {
          "base_uri": "https://localhost:8080/"
        },
        "outputId": "71e7e53c-f60f-45f9-fd7a-43fac370c6e3"
      },
      "source": [
        "model_k6.transform(cluster_final_data).show()"
      ],
      "execution_count": null,
      "outputs": [
        {
          "output_type": "stream",
          "name": "stdout",
          "text": [
            "+----------------------+-----------------+---------+-----+---------------+-------------+-----------+--------------+----------------+-----------+-------+---------+----+-----------+------------+-------+-----+-------+---+------+----+-------+--------------------+--------------------+----------+\n",
            "|user_id_music category|Alternative Music|Asian Pop|Blues|Classical Music|Country Music|Dance Music|Easy Listening|Electronic Music|Hindi Music|Hip Hop|Indie Pop|Jazz|Latin Music|Motivational|New Age|Opera|Popular|Rap|Reggae|Rock|Soulful|            features|      scaledFeatures|prediction|\n",
            "+----------------------+-----------------+---------+-----+---------------+-------------+-----------+--------------+----------------+-----------+-------+---------+----+-----------+------------+-------+-----+-------+---+------+----+-------+--------------------+--------------------+----------+\n",
            "|  ca3c4285512798abe...|               65|        0|    7|              8|            7|         12|             7|               2|         12|      7|        0|  15|          0|           2|      0|    3|      0|  3|     0|   1|      0|[65.0,0.0,7.0,8.0...|[0.23836018560172...|         0|\n",
            "|  b457919ae168ac12e...|               80|        0|   65|            135|           16|         55|             7|              34|          0|     12|        6|   7|          3|           2|      1|    2|      0|  5|     0|   0|      0|[80.0,0.0,65.0,13...|[0.29336638227904...|         0|\n",
            "|  a87bb168ba6e5a8da...|                0|        0|   11|              0|            9|          3|             0|               3|          3|      0|        5|   0|          0|           1|      0|    0|      4|  0|     0|   0|      5|(21,[2,4,5,7,8,10...|(21,[2,4,5,7,8,10...|         0|\n",
            "|  cf60c9b1a0444261c...|              119|      268|  340|             63|           85|         48|           498|              82|          0|     34|        1|  14|          0|          14|      3|   57|      0| 67|     3|   6|      1|[119.0,268.0,340....|[0.43638249364008...|         5|\n",
            "|  8ab21c1b361d5c4aa...|               23|        7|   81|             22|           30|        197|            11|               8|          0|      7|        6|   0|          0|          12|      7|    2|      9|  7|     0|   1|      0|[23.0,7.0,81.0,22...|[0.08434283490522...|         0|\n",
            "|  34e22754ffec4a0d4...|              192|        1|  158|             40|           83|        110|           126|              39|          1|     33|       68|   1|          0|           4|      2|    0|     11| 13|     0|  28|      7|[192.0,1.0,158.0,...|[0.70407931746971...|         0|\n",
            "|  ad3ea6999df3120cc...|                5|        0|    1|              0|            9|        254|            15|               1|          2|      0|        4|   0|          1|           0|      0|    4|      0|  1|     0|   0|      0|(21,[0,2,4,5,6,7,...|(21,[0,2,4,5,6,7,...|         0|\n",
            "|  3d2ea50eeeb98d4a7...|               31|        2|   17|             22|           21|         66|            90|               8|          2|     26|       42|  10|          0|           4|      6|   12|      0| 14|     0|   1|      9|[31.0,2.0,17.0,22...|[0.11367947313313...|         0|\n",
            "|  334533d21eeed37dd...|                7|        0|    5|              0|            4|          4|             1|               0|          2|      4|        3|   0|          0|           0|      0|    3|      2|  0|     0|   0|      2|(21,[0,2,4,5,6,8,...|(21,[0,2,4,5,6,8,...|         0|\n",
            "|  bad9c123790cfd0b1...|               19|        3|    7|             19|           13|         33|             7|               4|         49|     20|        5|   0|          0|           0|     99|    3|      0| 15|     0|   0|      0|[19.0,3.0,7.0,19....|[0.06967451579127...|         0|\n",
            "|  dd8b41323bbef6d40...|               12|        0|   20|              4|           19|          5|             0|              10|          1|      5|        1|   5|          0|           0|      0|    7|      3|  0|     0|   0|      0|(21,[0,2,3,4,5,7,...|(21,[0,2,3,4,5,7,...|         0|\n",
            "|  ac40c16b3c6248ceb...|                2|        1|    1|             49|            2|         11|            12|               8|          1|      5|        0|   0|          0|           6|      1|   11|      3|  0|     0|   0|      2|[2.0,1.0,1.0,49.0...|[0.00733415955697...|         0|\n",
            "|  57c20a25da427c79b...|                2|        0|    1|              8|            2|          6|             1|               9|          0|     14|        0|   0|          0|           1|      0|    0|      0|  4|     0|   2|      0|(21,[0,2,3,4,5,6,...|(21,[0,2,3,4,5,6,...|         0|\n",
            "|  b5773ac4aa0d07926...|              127|        0|   25|             89|           24|         16|             3|              17|          0|      6|        3|   7|          0|           1|     21|    3|      0|  4|     0|   0|      4|[127.0,0.0,25.0,8...|[0.46571913186798...|         0|\n",
            "|  793c0773daa478bf3...|                0|        0|    7|              0|            2|          0|             0|               0|          0|      0|        0|   0|          0|           0|      0|    0|      0|  0|     0|   3|      0|(21,[2,4,19],[7.0...|(21,[2,4,19],[0.0...|         0|\n",
            "|  4c52a409ecbf4c78b...|               43|        0|   60|             10|            6|         44|             7|               3|        285|      0|        0|   0|          0|           0|     41|    7|      2|  0|     0|   0|      0|(21,[0,2,3,4,5,6,...|(21,[0,2,3,4,5,6,...|         0|\n",
            "|  fadebf953475576be...|               70|        2|   77|             15|           71|         11|            37|              45|          0|      1|        7|   5|          0|          18|      0|    1|      0|  0|     0|   5|      1|[70.0,2.0,77.0,15...|[0.25669558449416...|         0|\n",
            "|  86f98ea95c8b3333b...|               48|       19|  234|             60|          172|         62|            77|              63|          0|    127|       69|   1|          4|           7|     18|   45|      2|280|     3|   0|      0|[48.0,19.0,234.0,...|[0.17601982936742...|         0|\n",
            "|  1a9da82f18b16577b...|              496|        1|  427|             76|          421|        221|           247|              70|          2|     66|       89|   5|          2|          37|     24|   29|     13|173|     2|  14|      9|[496.0,1.0,427.0,...|[1.81887157013008...|         5|\n",
            "|  9e528e07d7deddba5...|              153|        0|   48|             10|           10|         22|            51|              19|          1|     12|       28|   0|          0|          49|      0|    3|      7|  7|     0|   0|      0|[153.0,0.0,48.0,1...|[0.56106320610867...|         0|\n",
            "+----------------------+-----------------+---------+-----+---------------+-------------+-----------+--------------+----------------+-----------+-------+---------+----+-----------+------------+-------+-----+-------+---+------+----+-------+--------------------+--------------------+----------+\n",
            "only showing top 20 rows\n",
            "\n"
          ]
        }
      ]
    },
    {
      "cell_type": "markdown",
      "metadata": {
        "id": "iacU9KUMmW09"
      },
      "source": [
        "**Mostramos el esquema del data frame con la nueva caracteristica 'prediction'**"
      ]
    },
    {
      "cell_type": "code",
      "metadata": {
        "id": "0IZp6jMa3OOl",
        "colab": {
          "base_uri": "https://localhost:8080/"
        },
        "outputId": "baaeaeda-3585-4df9-957b-c122bdbe1b82"
      },
      "source": [
        "cluster_prediction = model_k6.transform(cluster_final_data)\n",
        "cluster_prediction.printSchema()"
      ],
      "execution_count": null,
      "outputs": [
        {
          "output_type": "stream",
          "name": "stdout",
          "text": [
            "root\n",
            " |-- user_id_music category: string (nullable = true)\n",
            " |-- Alternative Music: long (nullable = true)\n",
            " |-- Asian Pop: long (nullable = true)\n",
            " |-- Blues: long (nullable = true)\n",
            " |-- Classical Music: long (nullable = true)\n",
            " |-- Country Music: long (nullable = true)\n",
            " |-- Dance Music: long (nullable = true)\n",
            " |-- Easy Listening: long (nullable = true)\n",
            " |-- Electronic Music: long (nullable = true)\n",
            " |-- Hindi Music: long (nullable = true)\n",
            " |-- Hip Hop: long (nullable = true)\n",
            " |-- Indie Pop: long (nullable = true)\n",
            " |-- Jazz: long (nullable = true)\n",
            " |-- Latin Music: long (nullable = true)\n",
            " |-- Motivational: long (nullable = true)\n",
            " |-- New Age: long (nullable = true)\n",
            " |-- Opera: long (nullable = true)\n",
            " |-- Popular: long (nullable = true)\n",
            " |-- Rap: long (nullable = true)\n",
            " |-- Reggae: long (nullable = true)\n",
            " |-- Rock: long (nullable = true)\n",
            " |-- Soulful: long (nullable = true)\n",
            " |-- features: vector (nullable = true)\n",
            " |-- scaledFeatures: vector (nullable = true)\n",
            " |-- prediction: integer (nullable = false)\n",
            "\n"
          ]
        }
      ]
    },
    {
      "cell_type": "markdown",
      "metadata": {
        "id": "tjtEHwNrmXms"
      },
      "source": [
        "**Reducmimos el numero de caracteristicas dejando solo las mas importantes para el modelo de clustering con la ayuda de Principal Component Analysis**"
      ]
    },
    {
      "cell_type": "code",
      "metadata": {
        "id": "fY8Wpxaa_tUf",
        "colab": {
          "base_uri": "https://localhost:8080/"
        },
        "outputId": "ccc76093-32d5-470c-f069-876192e877af"
      },
      "source": [
        "from pyspark.ml.feature import PCA\n",
        "from pyspark.ml.linalg import Vectors\n",
        "\n",
        "pca = PCA(k=3, inputCol=\"scaledFeatures\", outputCol=\"pca_features\")\n",
        "pca_model = pca.fit(cluster_prediction)\n",
        "result = pca_model.transform(cluster_prediction).select('user_id_music category',\"pca_features\",'prediction')\n",
        "result.show(truncate=False)"
      ],
      "execution_count": null,
      "outputs": [
        {
          "output_type": "stream",
          "name": "stdout",
          "text": [
            "+----------------------------------------------------------------+-----------------------------------------------------------------+----------+\n",
            "|user_id_music category                                          |pca_features                                                     |prediction|\n",
            "+----------------------------------------------------------------+-----------------------------------------------------------------+----------+\n",
            "|ca3c4285512798abe7d81fa2d0588549211be9516d9b2050e5564f8e912312c7|[-0.22507350265162815,0.1508289363663225,-0.13922132997808223]   |0         |\n",
            "|b457919ae168ac12ec7e0303ae0d5fe292b63c9d04eb54e039942e7f46552ec4|[-0.5273003162834191,0.10206886950980079,-0.014971360310927773]  |0         |\n",
            "|a87bb168ba6e5a8da5eccce18c95565d843b40c1833b0f6c3089eb083f0fe3d3|[-0.23968261020295817,0.2801153618243112,-0.17382194436381881]   |0         |\n",
            "|cf60c9b1a0444261c3a4687677f5336686b96756df5e33c11f6016f16fb38372|[-3.5120515919930146,0.32729433189573726,1.1017302617933296]     |5         |\n",
            "|8ab21c1b361d5c4aa1ed01893305febf1c6659bd342217eece1225d789ba57da|[-0.6796385576703682,0.39608053546484023,0.11474085857053225]    |0         |\n",
            "|34e22754ffec4a0d434edfa0f3b10c0e1ab14c632cee37514076d211cf1e7017|[-2.0964050329364157,0.9121320035474183,0.9912613846332565]      |0         |\n",
            "|ad3ea6999df3120ccb557d34cf75e17dfdd3febe445e9e1bc36514642fcd3bdb|[-0.2944449488892164,0.38397804726513174,0.07758752095208861]    |0         |\n",
            "|3d2ea50eeeb98d4a79259ee057955696ec9dc46e1b72e8d8eff099feb3362e1f|[-0.9356027216181404,0.5958240577216134,-0.1752415400437241]     |0         |\n",
            "|334533d21eeed37dd2b686022857f9f42eef9fa6192a8653040af844be8d15ef|[-0.13886158277802196,0.15784222493276157,-0.11260624144367219]  |0         |\n",
            "|bad9c123790cfd0b1106190de5623afbb70de0e71f5d48dc05ee6d743a2f50a8|[-0.5824585609741291,0.6698195803354225,-0.8684054960184625]     |0         |\n",
            "|dd8b41323bbef6d4093879c63966b025d9dd3dbdab1b372ec3c09ee9e40e277c|[-0.1961303852937059,0.1281298444133916,-0.09549024406090212]    |0         |\n",
            "|ac40c16b3c6248cebdfb8cb9e2dee4575862ef1223ece1b393b45b6b2561e8fc|[-0.28548897643969695,0.1507484298534746,-0.2556035908959905]    |0         |\n",
            "|57c20a25da427c79b41690be1b895110bbae9fb583a32a2d27c310e9caa1a395|[-0.11298754622944401,-0.026831694657476594,0.012421222276786471]|0         |\n",
            "|b5773ac4aa0d079266ecc3f02d0a16a0f7fd0789b7c0553782dd0588d57298b4|[-0.49180214506782743,0.3841542970784483,-0.10281962873038644]   |0         |\n",
            "|793c0773daa478bf340a4c6f63fad3beedef69aaa0a8f503995450c8a75cd2bd|[-0.059303805689035136,0.03756596949668743,0.08260181325447037]  |0         |\n",
            "|4c52a409ecbf4c78bf6aa73611615d7c68090162250aeed3118d57177e291e63|[-1.4580702292222272,1.899945681409897,-3.771501157950969]       |0         |\n",
            "|fadebf953475576be81797433f0d28278858f93eee0cefcc95b5b03dd787c327|[-0.7083739895738094,0.21507912946609561,0.3575382191220819]     |0         |\n",
            "|86f98ea95c8b3333b947bf9a1a305150633df37e6aac807cddcbbe3463bfd53d|[-2.465870896553219,0.6606526791365821,0.3223086584221242]       |0         |\n",
            "|1a9da82f18b16577b872a71cefdeae63a7725eac5547820182ba82d8845b02ee|[-4.316559639888828,2.1119157004751283,1.5493486921112427]       |5         |\n",
            "|9e528e07d7deddba5dcafd78c60059c7a91a7233350b2dcad109ae3b413d6aaf|[-0.8673164731150794,0.025748509689556776,0.2245798415193403]    |0         |\n",
            "+----------------------------------------------------------------+-----------------------------------------------------------------+----------+\n",
            "only showing top 20 rows\n",
            "\n"
          ]
        }
      ]
    },
    {
      "cell_type": "markdown",
      "metadata": {
        "id": "mu376jC7mZBR"
      },
      "source": [
        "**Separamos el data frame de PCA en 2 columnas**"
      ]
    },
    {
      "cell_type": "code",
      "metadata": {
        "id": "BJTKTUwo_tX3",
        "colab": {
          "base_uri": "https://localhost:8080/",
          "height": 394
        },
        "outputId": "833010bd-58b7-476d-b4f7-201be823a978"
      },
      "source": [
        "clusters = result.toPandas().set_index('user_id_music category')\n",
        "clusters.head(10)"
      ],
      "execution_count": null,
      "outputs": [
        {
          "output_type": "execute_result",
          "data": {
            "text/html": [
              "<div>\n",
              "<style scoped>\n",
              "    .dataframe tbody tr th:only-of-type {\n",
              "        vertical-align: middle;\n",
              "    }\n",
              "\n",
              "    .dataframe tbody tr th {\n",
              "        vertical-align: top;\n",
              "    }\n",
              "\n",
              "    .dataframe thead th {\n",
              "        text-align: right;\n",
              "    }\n",
              "</style>\n",
              "<table border=\"1\" class=\"dataframe\">\n",
              "  <thead>\n",
              "    <tr style=\"text-align: right;\">\n",
              "      <th></th>\n",
              "      <th>pca_features</th>\n",
              "      <th>prediction</th>\n",
              "    </tr>\n",
              "    <tr>\n",
              "      <th>user_id_music category</th>\n",
              "      <th></th>\n",
              "      <th></th>\n",
              "    </tr>\n",
              "  </thead>\n",
              "  <tbody>\n",
              "    <tr>\n",
              "      <th>ca3c4285512798abe7d81fa2d0588549211be9516d9b2050e5564f8e912312c7</th>\n",
              "      <td>[-0.22507350265162815, 0.1508289363663225, -0....</td>\n",
              "      <td>0</td>\n",
              "    </tr>\n",
              "    <tr>\n",
              "      <th>b457919ae168ac12ec7e0303ae0d5fe292b63c9d04eb54e039942e7f46552ec4</th>\n",
              "      <td>[-0.5273003162834191, 0.10206886950980079, -0....</td>\n",
              "      <td>0</td>\n",
              "    </tr>\n",
              "    <tr>\n",
              "      <th>a87bb168ba6e5a8da5eccce18c95565d843b40c1833b0f6c3089eb083f0fe3d3</th>\n",
              "      <td>[-0.23968261020295817, 0.2801153618243112, -0....</td>\n",
              "      <td>0</td>\n",
              "    </tr>\n",
              "    <tr>\n",
              "      <th>cf60c9b1a0444261c3a4687677f5336686b96756df5e33c11f6016f16fb38372</th>\n",
              "      <td>[-3.5120515919930146, 0.32729433189573726, 1.1...</td>\n",
              "      <td>5</td>\n",
              "    </tr>\n",
              "    <tr>\n",
              "      <th>8ab21c1b361d5c4aa1ed01893305febf1c6659bd342217eece1225d789ba57da</th>\n",
              "      <td>[-0.6796385576703682, 0.39608053546484023, 0.1...</td>\n",
              "      <td>0</td>\n",
              "    </tr>\n",
              "    <tr>\n",
              "      <th>34e22754ffec4a0d434edfa0f3b10c0e1ab14c632cee37514076d211cf1e7017</th>\n",
              "      <td>[-2.0964050329364157, 0.9121320035474183, 0.99...</td>\n",
              "      <td>0</td>\n",
              "    </tr>\n",
              "    <tr>\n",
              "      <th>ad3ea6999df3120ccb557d34cf75e17dfdd3febe445e9e1bc36514642fcd3bdb</th>\n",
              "      <td>[-0.2944449488892164, 0.38397804726513174, 0.0...</td>\n",
              "      <td>0</td>\n",
              "    </tr>\n",
              "    <tr>\n",
              "      <th>3d2ea50eeeb98d4a79259ee057955696ec9dc46e1b72e8d8eff099feb3362e1f</th>\n",
              "      <td>[-0.9356027216181404, 0.5958240577216134, -0.1...</td>\n",
              "      <td>0</td>\n",
              "    </tr>\n",
              "    <tr>\n",
              "      <th>334533d21eeed37dd2b686022857f9f42eef9fa6192a8653040af844be8d15ef</th>\n",
              "      <td>[-0.13886158277802196, 0.15784222493276157, -0...</td>\n",
              "      <td>0</td>\n",
              "    </tr>\n",
              "    <tr>\n",
              "      <th>bad9c123790cfd0b1106190de5623afbb70de0e71f5d48dc05ee6d743a2f50a8</th>\n",
              "      <td>[-0.5824585609741291, 0.6698195803354225, -0.8...</td>\n",
              "      <td>0</td>\n",
              "    </tr>\n",
              "  </tbody>\n",
              "</table>\n",
              "</div>"
            ],
            "text/plain": [
              "                                                                                         pca_features  prediction\n",
              "user_id_music category                                                                                           \n",
              "ca3c4285512798abe7d81fa2d0588549211be9516d9b205...  [-0.22507350265162815, 0.1508289363663225, -0....           0\n",
              "b457919ae168ac12ec7e0303ae0d5fe292b63c9d04eb54e...  [-0.5273003162834191, 0.10206886950980079, -0....           0\n",
              "a87bb168ba6e5a8da5eccce18c95565d843b40c1833b0f6...  [-0.23968261020295817, 0.2801153618243112, -0....           0\n",
              "cf60c9b1a0444261c3a4687677f5336686b96756df5e33c...  [-3.5120515919930146, 0.32729433189573726, 1.1...           5\n",
              "8ab21c1b361d5c4aa1ed01893305febf1c6659bd342217e...  [-0.6796385576703682, 0.39608053546484023, 0.1...           0\n",
              "34e22754ffec4a0d434edfa0f3b10c0e1ab14c632cee375...  [-2.0964050329364157, 0.9121320035474183, 0.99...           0\n",
              "ad3ea6999df3120ccb557d34cf75e17dfdd3febe445e9e1...  [-0.2944449488892164, 0.38397804726513174, 0.0...           0\n",
              "3d2ea50eeeb98d4a79259ee057955696ec9dc46e1b72e8d...  [-0.9356027216181404, 0.5958240577216134, -0.1...           0\n",
              "334533d21eeed37dd2b686022857f9f42eef9fa6192a865...  [-0.13886158277802196, 0.15784222493276157, -0...           0\n",
              "bad9c123790cfd0b1106190de5623afbb70de0e71f5d48d...  [-0.5824585609741291, 0.6698195803354225, -0.8...           0"
            ]
          },
          "metadata": {},
          "execution_count": 23
        }
      ]
    },
    {
      "cell_type": "markdown",
      "metadata": {
        "id": "fAvgdnxMmZ8v"
      },
      "source": [
        "**Visualizamos la representacion de los clusters en 2d**"
      ]
    },
    {
      "cell_type": "code",
      "metadata": {
        "colab": {
          "base_uri": "https://localhost:8080/",
          "height": 623
        },
        "id": "LvczHZ_cuS_9",
        "outputId": "58b8d1d0-8aba-4c49-c7f6-91a897f0da42"
      },
      "source": [
        "fig, ax = plt.subplots(1, 1, figsize=(10,10))\n",
        "ax.plot(range(2,10), silhouette_score)\n",
        "ax.set_xlabel(\"K\")\n",
        "ax.set_ylabel(\"Score\")"
      ],
      "execution_count": null,
      "outputs": [
        {
          "output_type": "execute_result",
          "data": {
            "text/plain": [
              "Text(0, 0.5, 'Score')"
            ]
          },
          "metadata": {},
          "execution_count": 24
        },
        {
          "output_type": "display_data",
          "data": {
            "image/png": "[encoded data removed]",
            "text/plain": [
              "<Figure size 720x720 with 1 Axes>"
            ]
          },
          "metadata": {
            "needs_background": "light"
          }
        }
      ]
    }
  ]
}